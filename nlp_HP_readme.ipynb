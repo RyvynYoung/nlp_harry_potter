{
 "cells": [
  {
   "cell_type": "markdown",
   "metadata": {},
   "source": [
    "# NLP predict language from readme - Harry Potter"
   ]
  },
  {
   "cell_type": "code",
   "execution_count": 1,
   "metadata": {},
   "outputs": [],
   "source": [
    "import acquire\n",
    "import prepare\n",
    "import wrangle\n",
    "import explore\n",
    "import model\n",
    "import curie_model\n",
    "explore.set_plotting_defaults()\n",
    "\n",
    "from sklearn.feature_extraction.text import CountVectorizer\n",
    "from sklearn.feature_extraction.text import TfidfVectorizer"
   ]
  },
  {
   "cell_type": "markdown",
   "metadata": {},
   "source": [
    "# Acquire"
   ]
  },
  {
   "cell_type": "code",
   "execution_count": 2,
   "metadata": {},
   "outputs": [],
   "source": [
    "df = acquire.get_github_HPresults(cached=True)"
   ]
  },
  {
   "cell_type": "code",
   "execution_count": 3,
   "metadata": {},
   "outputs": [
    {
     "name": "stdout",
     "output_type": "stream",
     "text": [
      "<class 'pandas.core.frame.DataFrame'>\n",
      "Int64Index: 656 entries, 0 to 655\n",
      "Data columns (total 2 columns):\n",
      " #   Column    Non-Null Count  Dtype \n",
      "---  ------    --------------  ----- \n",
      " 0   language  656 non-null    object\n",
      " 1   content   656 non-null    object\n",
      "dtypes: object(2)\n",
      "memory usage: 15.4+ KB\n"
     ]
    }
   ],
   "source": [
    "df.info()"
   ]
  },
  {
   "cell_type": "markdown",
   "metadata": {},
   "source": [
    "# Prepare"
   ]
  },
  {
   "cell_type": "code",
   "execution_count": 4,
   "metadata": {},
   "outputs": [],
   "source": [
    "df = prepare.prep_data(df, 'content', extra_words=['file', 'harry', 'potter', 'run', 'house', 'use'], exclude_words=[])"
   ]
  },
  {
   "cell_type": "markdown",
   "metadata": {},
   "source": [
    "NOTES:\n",
    "- after 1st run added stop words of harry, potter, run, file, and house\n",
    "- after 2nd run added stop words &#9, use"
   ]
  },
  {
   "cell_type": "code",
   "execution_count": 5,
   "metadata": {},
   "outputs": [
    {
     "data": {
      "text/plain": [
       "(442, 7)"
      ]
     },
     "execution_count": 5,
     "metadata": {},
     "output_type": "execute_result"
    }
   ],
   "source": [
    "df.shape"
   ]
  },
  {
   "cell_type": "code",
   "execution_count": 6,
   "metadata": {},
   "outputs": [],
   "source": [
    "train_exp, X_train, y_train, X_validate, y_validate, X_test, y_test = wrangle.split(df, 'language')"
   ]
  },
  {
   "cell_type": "code",
   "execution_count": 7,
   "metadata": {},
   "outputs": [
    {
     "data": {
      "text/plain": [
       "((264, 6), (89, 6), (89, 6))"
      ]
     },
     "execution_count": 7,
     "metadata": {},
     "output_type": "execute_result"
    }
   ],
   "source": [
    "X_train.shape, X_validate.shape, X_test.shape"
   ]
  },
  {
   "cell_type": "code",
   "execution_count": 8,
   "metadata": {},
   "outputs": [],
   "source": [
    "# make copies of X, y for possible resampling\n",
    "reXtrain = X_train.copy()\n",
    "reXval = X_validate.copy()\n",
    "reXtest = X_test.copy()\n",
    "reytrain = y_train.copy()\n",
    "reyval = y_validate.copy()\n",
    "reytest = y_test.copy()"
   ]
  },
  {
   "cell_type": "markdown",
   "metadata": {},
   "source": [
    "# Explore"
   ]
  },
  {
   "cell_type": "code",
   "execution_count": 9,
   "metadata": {},
   "outputs": [
    {
     "data": {
      "text/html": [
       "<div>\n",
       "<style scoped>\n",
       "    .dataframe tbody tr th:only-of-type {\n",
       "        vertical-align: middle;\n",
       "    }\n",
       "\n",
       "    .dataframe tbody tr th {\n",
       "        vertical-align: top;\n",
       "    }\n",
       "\n",
       "    .dataframe thead th {\n",
       "        text-align: right;\n",
       "    }\n",
       "</style>\n",
       "<table border=\"1\" class=\"dataframe\">\n",
       "  <thead>\n",
       "    <tr style=\"text-align: right;\">\n",
       "      <th></th>\n",
       "      <th>n</th>\n",
       "      <th>percent</th>\n",
       "    </tr>\n",
       "  </thead>\n",
       "  <tbody>\n",
       "    <tr>\n",
       "      <th>JavaScript</th>\n",
       "      <td>103</td>\n",
       "      <td>0.390152</td>\n",
       "    </tr>\n",
       "    <tr>\n",
       "      <th>Java</th>\n",
       "      <td>61</td>\n",
       "      <td>0.231061</td>\n",
       "    </tr>\n",
       "    <tr>\n",
       "      <th>Python</th>\n",
       "      <td>54</td>\n",
       "      <td>0.204545</td>\n",
       "    </tr>\n",
       "    <tr>\n",
       "      <th>HTML</th>\n",
       "      <td>46</td>\n",
       "      <td>0.174242</td>\n",
       "    </tr>\n",
       "  </tbody>\n",
       "</table>\n",
       "</div>"
      ],
      "text/plain": [
       "              n   percent\n",
       "JavaScript  103  0.390152\n",
       "Java         61  0.231061\n",
       "Python       54  0.204545\n",
       "HTML         46  0.174242"
      ]
     },
     "execution_count": 9,
     "metadata": {},
     "output_type": "execute_result"
    }
   ],
   "source": [
    "# check balance of dataset for under/over sampling\n",
    "explore.check_proportion(train_exp)\n",
    "# balance is not bad, will not need to over/under sample"
   ]
  },
  {
   "cell_type": "markdown",
   "metadata": {},
   "source": [
    "JavaScript is over represented in dataset. "
   ]
  },
  {
   "cell_type": "code",
   "execution_count": 10,
   "metadata": {},
   "outputs": [],
   "source": [
    "# create a list of words for each language category and remove single letter words\n",
    "python_words, js_words, html_words, java_words = explore.create_lang_word_list(train_exp)\n",
    "# get the count of words by category\n",
    "python_freq, js_freq, html_freq, java_freq = explore.get_count_word_freq(python_words, js_words, html_words, java_words)"
   ]
  },
  {
   "cell_type": "code",
   "execution_count": 11,
   "metadata": {},
   "outputs": [
    {
     "data": {
      "text/plain": [
       "image                                  27\n",
       "file                                   24\n",
       "python                                 22\n",
       "game                                   20\n",
       "using                                  20\n",
       "                                       ..\n",
       "httpswwwyoutubecomwatchvyedaqp7rkpw     1\n",
       "storyxxximg                             1\n",
       "added                                   1\n",
       "scene                                   1\n",
       "diminuendo                              1\n",
       "Length: 1279, dtype: int64"
      ]
     },
     "execution_count": 11,
     "metadata": {},
     "output_type": "execute_result"
    }
   ],
   "source": [
    "python_freq\n",
    "# words to add to stopwords = harry, potter, file \n",
    "# note: adding file to stop words removes many instances but not all in python, but does remove in others"
   ]
  },
  {
   "cell_type": "code",
   "execution_count": 12,
   "metadata": {},
   "outputs": [
    {
     "data": {
      "text/plain": [
       "build       327\n",
       "app         301\n",
       "npm         286\n",
       "test        272\n",
       "react       236\n",
       "           ... \n",
       "ning          1\n",
       "pushed        1\n",
       "&#9;tag'      1\n",
       "begun         1\n",
       "entidade      1\n",
       "Length: 4310, dtype: int64"
      ]
     },
     "execution_count": 12,
     "metadata": {},
     "output_type": "execute_result"
    }
   ],
   "source": [
    "js_freq\n",
    "# words to add to stopwords = harry, potter, run"
   ]
  },
  {
   "cell_type": "code",
   "execution_count": 13,
   "metadata": {},
   "outputs": [
    {
     "data": {
      "text/plain": [
       "&#9;                21\n",
       "spell               21\n",
       "make                13\n",
       "option              13\n",
       "user                12\n",
       "                    ..\n",
       "language             1\n",
       "spellcasterlumos     1\n",
       "rechargeable         1\n",
       "alternatively        1\n",
       "mysqluri             1\n",
       "Length: 1201, dtype: int64"
      ]
     },
     "execution_count": 13,
     "metadata": {},
     "output_type": "execute_result"
    }
   ],
   "source": [
    "html_freq\n",
    "# words to add to stopwords = harry, potter, file, house"
   ]
  },
  {
   "cell_type": "code",
   "execution_count": 14,
   "metadata": {},
   "outputs": [
    {
     "data": {
      "text/plain": [
       "de              189\n",
       "build           143\n",
       "test            125\n",
       "npm             120\n",
       "app             120\n",
       "               ... \n",
       "bottokenmake      1\n",
       "top               1\n",
       "delegate          1\n",
       "connection        1\n",
       "redeploy          1\n",
       "Length: 3440, dtype: int64"
      ]
     },
     "execution_count": 14,
     "metadata": {},
     "output_type": "execute_result"
    }
   ],
   "source": [
    "java_freq\n",
    "# words to add to stopwords = harry, potter, run, house"
   ]
  },
  {
   "cell_type": "code",
   "execution_count": 15,
   "metadata": {},
   "outputs": [],
   "source": [
    "# combine list of word counts into df for further exploration\n",
    "word_counts = explore.create_df_word_counts(python_freq, js_freq, html_freq, java_freq)\n",
    "word_counts = explore.word_counts_proportion(word_counts)"
   ]
  },
  {
   "cell_type": "code",
   "execution_count": 16,
   "metadata": {},
   "outputs": [
    {
     "data": {
      "text/html": [
       "<div>\n",
       "<style scoped>\n",
       "    .dataframe tbody tr th:only-of-type {\n",
       "        vertical-align: middle;\n",
       "    }\n",
       "\n",
       "    .dataframe tbody tr th {\n",
       "        vertical-align: top;\n",
       "    }\n",
       "\n",
       "    .dataframe thead th {\n",
       "        text-align: right;\n",
       "    }\n",
       "</style>\n",
       "<table border=\"1\" class=\"dataframe\">\n",
       "  <thead>\n",
       "    <tr style=\"text-align: right;\">\n",
       "      <th></th>\n",
       "      <th>Python</th>\n",
       "      <th>JavaScript</th>\n",
       "      <th>HTML</th>\n",
       "      <th>Java</th>\n",
       "      <th>all_words</th>\n",
       "      <th>prop_python</th>\n",
       "      <th>prop_js</th>\n",
       "      <th>prop_html</th>\n",
       "      <th>prop_java</th>\n",
       "    </tr>\n",
       "  </thead>\n",
       "  <tbody>\n",
       "    <tr>\n",
       "      <th>&amp;#9;</th>\n",
       "      <td>0</td>\n",
       "      <td>12</td>\n",
       "      <td>21</td>\n",
       "      <td>1</td>\n",
       "      <td>34</td>\n",
       "      <td>0.0</td>\n",
       "      <td>0.352941</td>\n",
       "      <td>0.617647</td>\n",
       "      <td>0.029412</td>\n",
       "    </tr>\n",
       "    <tr>\n",
       "      <th>&amp;#9;content'</th>\n",
       "      <td>0</td>\n",
       "      <td>1</td>\n",
       "      <td>1</td>\n",
       "      <td>0</td>\n",
       "      <td>2</td>\n",
       "      <td>0.0</td>\n",
       "      <td>0.500000</td>\n",
       "      <td>0.500000</td>\n",
       "      <td>0.000000</td>\n",
       "    </tr>\n",
       "    <tr>\n",
       "      <th>&amp;#9;tag'</th>\n",
       "      <td>0</td>\n",
       "      <td>1</td>\n",
       "      <td>1</td>\n",
       "      <td>0</td>\n",
       "      <td>2</td>\n",
       "      <td>0.0</td>\n",
       "      <td>0.500000</td>\n",
       "      <td>0.500000</td>\n",
       "      <td>0.000000</td>\n",
       "    </tr>\n",
       "    <tr>\n",
       "      <th>&amp;#9;title'</th>\n",
       "      <td>0</td>\n",
       "      <td>1</td>\n",
       "      <td>1</td>\n",
       "      <td>0</td>\n",
       "      <td>2</td>\n",
       "      <td>0.0</td>\n",
       "      <td>0.500000</td>\n",
       "      <td>0.500000</td>\n",
       "      <td>0.000000</td>\n",
       "    </tr>\n",
       "    <tr>\n",
       "      <th>000000</th>\n",
       "      <td>0</td>\n",
       "      <td>1</td>\n",
       "      <td>0</td>\n",
       "      <td>1</td>\n",
       "      <td>2</td>\n",
       "      <td>0.0</td>\n",
       "      <td>0.500000</td>\n",
       "      <td>0.000000</td>\n",
       "      <td>0.500000</td>\n",
       "    </tr>\n",
       "    <tr>\n",
       "      <th>...</th>\n",
       "      <td>...</td>\n",
       "      <td>...</td>\n",
       "      <td>...</td>\n",
       "      <td>...</td>\n",
       "      <td>...</td>\n",
       "      <td>...</td>\n",
       "      <td>...</td>\n",
       "      <td>...</td>\n",
       "      <td>...</td>\n",
       "    </tr>\n",
       "    <tr>\n",
       "      <th>zone</th>\n",
       "      <td>0</td>\n",
       "      <td>1</td>\n",
       "      <td>0</td>\n",
       "      <td>0</td>\n",
       "      <td>1</td>\n",
       "      <td>0.0</td>\n",
       "      <td>1.000000</td>\n",
       "      <td>0.000000</td>\n",
       "      <td>0.000000</td>\n",
       "    </tr>\n",
       "    <tr>\n",
       "      <th>zonko</th>\n",
       "      <td>0</td>\n",
       "      <td>1</td>\n",
       "      <td>0</td>\n",
       "      <td>0</td>\n",
       "      <td>1</td>\n",
       "      <td>0.0</td>\n",
       "      <td>1.000000</td>\n",
       "      <td>0.000000</td>\n",
       "      <td>0.000000</td>\n",
       "    </tr>\n",
       "    <tr>\n",
       "      <th>zum</th>\n",
       "      <td>0</td>\n",
       "      <td>0</td>\n",
       "      <td>0</td>\n",
       "      <td>1</td>\n",
       "      <td>1</td>\n",
       "      <td>0.0</td>\n",
       "      <td>0.000000</td>\n",
       "      <td>0.000000</td>\n",
       "      <td>1.000000</td>\n",
       "    </tr>\n",
       "    <tr>\n",
       "      <th>zusatzlich</th>\n",
       "      <td>0</td>\n",
       "      <td>0</td>\n",
       "      <td>0</td>\n",
       "      <td>1</td>\n",
       "      <td>1</td>\n",
       "      <td>0.0</td>\n",
       "      <td>0.000000</td>\n",
       "      <td>0.000000</td>\n",
       "      <td>1.000000</td>\n",
       "    </tr>\n",
       "    <tr>\n",
       "      <th>zwei</th>\n",
       "      <td>0</td>\n",
       "      <td>0</td>\n",
       "      <td>0</td>\n",
       "      <td>1</td>\n",
       "      <td>1</td>\n",
       "      <td>0.0</td>\n",
       "      <td>0.000000</td>\n",
       "      <td>0.000000</td>\n",
       "      <td>1.000000</td>\n",
       "    </tr>\n",
       "  </tbody>\n",
       "</table>\n",
       "<p>6127 rows × 9 columns</p>\n",
       "</div>"
      ],
      "text/plain": [
       "              Python  JavaScript  HTML  Java  all_words  prop_python  \\\n",
       "&#9;               0          12    21     1         34          0.0   \n",
       "&#9;content'       0           1     1     0          2          0.0   \n",
       "&#9;tag'           0           1     1     0          2          0.0   \n",
       "&#9;title'         0           1     1     0          2          0.0   \n",
       "000000             0           1     0     1          2          0.0   \n",
       "...              ...         ...   ...   ...        ...          ...   \n",
       "zone               0           1     0     0          1          0.0   \n",
       "zonko              0           1     0     0          1          0.0   \n",
       "zum                0           0     0     1          1          0.0   \n",
       "zusatzlich         0           0     0     1          1          0.0   \n",
       "zwei               0           0     0     1          1          0.0   \n",
       "\n",
       "               prop_js  prop_html  prop_java  \n",
       "&#9;          0.352941   0.617647   0.029412  \n",
       "&#9;content'  0.500000   0.500000   0.000000  \n",
       "&#9;tag'      0.500000   0.500000   0.000000  \n",
       "&#9;title'    0.500000   0.500000   0.000000  \n",
       "000000        0.500000   0.000000   0.500000  \n",
       "...                ...        ...        ...  \n",
       "zone          1.000000   0.000000   0.000000  \n",
       "zonko         1.000000   0.000000   0.000000  \n",
       "zum           0.000000   0.000000   1.000000  \n",
       "zusatzlich    0.000000   0.000000   1.000000  \n",
       "zwei          0.000000   0.000000   1.000000  \n",
       "\n",
       "[6127 rows x 9 columns]"
      ]
     },
     "execution_count": 16,
     "metadata": {},
     "output_type": "execute_result"
    }
   ],
   "source": [
    "word_counts"
   ]
  },
  {
   "cell_type": "code",
   "execution_count": 17,
   "metadata": {},
   "outputs": [
    {
     "name": "stdout",
     "output_type": "stream",
     "text": [
      "The number of words that occur n times: \n"
     ]
    },
    {
     "data": {
      "text/plain": [
       "1     2327\n",
       "2      976\n",
       "3      893\n",
       "4      321\n",
       "6      308\n",
       "9      130\n",
       "5      118\n",
       "8      105\n",
       "7       81\n",
       "12      69\n",
       "10      65\n",
       "15      51\n",
       "13      43\n",
       "11      41\n",
       "18      31\n",
       "17      30\n",
       "14      30\n",
       "16      27\n",
       "24      24\n",
       "22      23\n",
       "Name: all_words, dtype: int64"
      ]
     },
     "execution_count": 17,
     "metadata": {},
     "output_type": "execute_result"
    }
   ],
   "source": [
    "print(\"The number of words that occur n times: \")\n",
    "word_counts['all_words'].value_counts().head(20)"
   ]
  },
  {
   "cell_type": "code",
   "execution_count": 18,
   "metadata": {},
   "outputs": [
    {
     "name": "stdout",
     "output_type": "stream",
     "text": [
      "<class 'pandas.core.frame.DataFrame'>\n",
      "Index: 463 entries, &#9; to youre\n",
      "Data columns (total 9 columns):\n",
      " #   Column       Non-Null Count  Dtype  \n",
      "---  ------       --------------  -----  \n",
      " 0   Python       463 non-null    int64  \n",
      " 1   JavaScript   463 non-null    int64  \n",
      " 2   HTML         463 non-null    int64  \n",
      " 3   Java         463 non-null    int64  \n",
      " 4   all_words    463 non-null    int64  \n",
      " 5   prop_python  463 non-null    float64\n",
      " 6   prop_js      463 non-null    float64\n",
      " 7   prop_html    463 non-null    float64\n",
      " 8   prop_java    463 non-null    float64\n",
      "dtypes: float64(4), int64(5)\n",
      "memory usage: 36.2+ KB\n"
     ]
    }
   ],
   "source": [
    "# filter out all words that occur less than 20 times\n",
    "word_counts = word_counts[word_counts['all_words'] >= 20]\n",
    "word_counts.info()"
   ]
  },
  {
   "cell_type": "code",
   "execution_count": 19,
   "metadata": {},
   "outputs": [
    {
     "data": {
      "text/plain": [
       "<Figure size 864x576 with 0 Axes>"
      ]
     },
     "metadata": {},
     "output_type": "display_data"
    },
    {
     "data": {
      "image/png": "[encoded data removed]",
      "text/plain": [
       "<Figure size 936x504 with 1 Axes>"
      ]
     },
     "metadata": {},
     "output_type": "display_data"
    }
   ],
   "source": [
    "# visualize the % of the term in each language\n",
    "explore.proportion_visualization(word_counts)"
   ]
  },
  {
   "cell_type": "code",
   "execution_count": 20,
   "metadata": {},
   "outputs": [
    {
     "data": {
      "image/png": "[encoded data removed]",
      "text/plain": [
       "<Figure size 720x720 with 4 Axes>"
      ]
     },
     "metadata": {},
     "output_type": "display_data"
    }
   ],
   "source": [
    "python_bigrams, js_bigrams, html_bigrams, java_bigrams = explore.create_bigrams(python_words, js_words, html_words, java_words)\n",
    "explore.plot_bigrams(python_bigrams, js_bigrams, html_bigrams, java_bigrams)"
   ]
  },
  {
   "cell_type": "markdown",
   "metadata": {},
   "source": [
    "# Model"
   ]
  },
  {
   "cell_type": "code",
   "execution_count": 21,
   "metadata": {},
   "outputs": [
    {
     "data": {
      "text/html": [
       "<div>\n",
       "<style scoped>\n",
       "    .dataframe tbody tr th:only-of-type {\n",
       "        vertical-align: middle;\n",
       "    }\n",
       "\n",
       "    .dataframe tbody tr th {\n",
       "        vertical-align: top;\n",
       "    }\n",
       "\n",
       "    .dataframe thead th {\n",
       "        text-align: right;\n",
       "    }\n",
       "</style>\n",
       "<table border=\"1\" class=\"dataframe\">\n",
       "  <thead>\n",
       "    <tr style=\"text-align: right;\">\n",
       "      <th></th>\n",
       "      <th>content</th>\n",
       "      <th>clean</th>\n",
       "      <th>stemmed</th>\n",
       "      <th>lemmatized</th>\n",
       "      <th>words</th>\n",
       "      <th>doc_length</th>\n",
       "    </tr>\n",
       "  </thead>\n",
       "  <tbody>\n",
       "    <tr>\n",
       "      <th>552</th>\n",
       "      <td>HarryPotterGame\\nHarry Potter Game made in Con...</td>\n",
       "      <td>harrypottergame game made construct 2 try righ...</td>\n",
       "      <td>harrypottergam game made construct 2 tri right...</td>\n",
       "      <td>harrypottergame game made construct 2 try righ...</td>\n",
       "      <td>[harrypottergame, game, made, constructtry, ri...</td>\n",
       "      <td>6</td>\n",
       "    </tr>\n",
       "    <tr>\n",
       "      <th>403</th>\n",
       "      <td>Harry Potter RPG\\nThis is a simple Harry Potte...</td>\n",
       "      <td>rpg simple rpg game select character opponent ...</td>\n",
       "      <td>rpg simpl rpg game select charact oppon battl ...</td>\n",
       "      <td>rpg simple rpg game select character opponent ...</td>\n",
       "      <td>[rpg, simple, rpg, game, select, character, op...</td>\n",
       "      <td>28</td>\n",
       "    </tr>\n",
       "    <tr>\n",
       "      <th>143</th>\n",
       "      <td>The Harry Potter game is a fun, easy to play Q...</td>\n",
       "      <td>game fun easy play quintusstyle game watch dem...</td>\n",
       "      <td>game fun easi play quintusstyl game watch deme...</td>\n",
       "      <td>game fun easy play quintusstyle game watch dem...</td>\n",
       "      <td>[game, fun, easy, play, quintusstyle, game, wa...</td>\n",
       "      <td>40</td>\n",
       "    </tr>\n",
       "    <tr>\n",
       "      <th>608</th>\n",
       "      <td>HarryPotterKata\\nSolve Harry Potter kata pairi...</td>\n",
       "      <td>harrypotterkata solve kata pairing marina mari...</td>\n",
       "      <td>harrypotterkata solv kata pair marina marisid ...</td>\n",
       "      <td>harrypotterkata solve kata pairing marina mari...</td>\n",
       "      <td>[harrypotterkata, solve, kata, pairing, marina...</td>\n",
       "      <td>10</td>\n",
       "    </tr>\n",
       "    <tr>\n",
       "      <th>206</th>\n",
       "      <td>harryPotterSeattle\\nThis app is an app that he...</td>\n",
       "      <td>harrypotterseattle app app helps tour seattle ...</td>\n",
       "      <td>harrypotterseattl app app help tour seattl tak...</td>\n",
       "      <td>harrypotterseattle app app help tour seattle t...</td>\n",
       "      <td>[harrypotterseattle, app, app, help, tour, sea...</td>\n",
       "      <td>17</td>\n",
       "    </tr>\n",
       "  </tbody>\n",
       "</table>\n",
       "</div>"
      ],
      "text/plain": [
       "                                               content  \\\n",
       "552  HarryPotterGame\\nHarry Potter Game made in Con...   \n",
       "403  Harry Potter RPG\\nThis is a simple Harry Potte...   \n",
       "143  The Harry Potter game is a fun, easy to play Q...   \n",
       "608  HarryPotterKata\\nSolve Harry Potter kata pairi...   \n",
       "206  harryPotterSeattle\\nThis app is an app that he...   \n",
       "\n",
       "                                                 clean  \\\n",
       "552  harrypottergame game made construct 2 try righ...   \n",
       "403  rpg simple rpg game select character opponent ...   \n",
       "143  game fun easy play quintusstyle game watch dem...   \n",
       "608  harrypotterkata solve kata pairing marina mari...   \n",
       "206  harrypotterseattle app app helps tour seattle ...   \n",
       "\n",
       "                                               stemmed  \\\n",
       "552  harrypottergam game made construct 2 tri right...   \n",
       "403  rpg simpl rpg game select charact oppon battl ...   \n",
       "143  game fun easi play quintusstyl game watch deme...   \n",
       "608  harrypotterkata solv kata pair marina marisid ...   \n",
       "206  harrypotterseattl app app help tour seattl tak...   \n",
       "\n",
       "                                            lemmatized  \\\n",
       "552  harrypottergame game made construct 2 try righ...   \n",
       "403  rpg simple rpg game select character opponent ...   \n",
       "143  game fun easy play quintusstyle game watch dem...   \n",
       "608  harrypotterkata solve kata pairing marina mari...   \n",
       "206  harrypotterseattle app app help tour seattle t...   \n",
       "\n",
       "                                                 words  doc_length  \n",
       "552  [harrypottergame, game, made, constructtry, ri...           6  \n",
       "403  [rpg, simple, rpg, game, select, character, op...          28  \n",
       "143  [game, fun, easy, play, quintusstyle, game, wa...          40  \n",
       "608  [harrypotterkata, solve, kata, pairing, marina...          10  \n",
       "206  [harrypotterseattle, app, app, help, tour, sea...          17  "
      ]
     },
     "execution_count": 21,
     "metadata": {},
     "output_type": "execute_result"
    }
   ],
   "source": [
    "X_train.head()"
   ]
  },
  {
   "cell_type": "code",
   "execution_count": 22,
   "metadata": {},
   "outputs": [],
   "source": [
    "# create vectorizers\n",
    "\n",
    "# Bag of Words\n",
    "vectorizer = CountVectorizer(stop_words='english', min_df=20, ngram_range=(1,2), binary=True)\n",
    "# Learn vocabulary in sentences and Transform each sentences in vector space.\n",
    "X_train_bow = vectorizer.fit_transform(X_train.clean)\n",
    "# Transform validate and test\n",
    "X_val_bow = vectorizer.transform(X_validate.clean)\n",
    "X_test_bow = vectorizer.transform(X_test.clean)\n",
    "\n",
    "# TF-IDF\n",
    "tfidf = TfidfVectorizer(stop_words='english', min_df=20, ngram_range=(1,2), binary=True)\n",
    "X_train_tfidf = tfidf.fit_transform(X_train.clean)\n",
    "# Transform validate and test\n",
    "X_val_tfidf = tfidf.transform(X_validate.clean)\n",
    "X_test_tfidf = tfidf.transform(X_test.clean)"
   ]
  },
  {
   "cell_type": "code",
   "execution_count": 23,
   "metadata": {},
   "outputs": [
    {
     "data": {
      "text/plain": [
       "0.39"
      ]
     },
     "execution_count": 23,
     "metadata": {},
     "output_type": "execute_result"
    }
   ],
   "source": [
    "# Get Baseline - predict JavaScript for all\n",
    "baseline = len(train_exp[train_exp.language == 'JavaScript']) / len(train_exp)\n",
    "round(baseline,2)"
   ]
  },
  {
   "cell_type": "markdown",
   "metadata": {},
   "source": [
    "## TRAIN\n",
    "\n",
    "X_train.shape, X_validate.shape, X_test.shape \n",
    "((132, 6), (45, 6), (45, 6))  \n",
    "X_train.shape, X_validate.shape, X_test.shape\n",
    "  ((264, 6), (89, 6), (89, 6))\n",
    "\n",
    "USING LEMMATIZED\n",
    "\n",
    "|FUNCTION            |VECTOR| F1 range | Accuracy |    |FUNCTION            |VECTOR| F1 range | Accuracy |    \n",
    "|--------------------|------|----------|----------|    |--------------------|------|----------|----------|    \n",
    "|Logistic Regression |BOW   |.37 to .68| .58      |    |Logistic Regression |BOW   |.25 to .68| .61      |    \n",
    "|Logistic Regression |TFIDF |.37 to .67| .56      |    |Logistic Regression |TFIDF |.23 to .66| .58      |    \n",
    "|Random Forest       |BOW   |.31 to .68| .59      |    |Random Forest       |BOW   |.12 to .64| .58      |    \n",
    "|Random Forest       |TFIDF |.43 to .78| .68      |    |Random Forest       |TFIDF |.12 to .65| .59      |    \n",
    "|ComplementNaiveBayes|TFIDF |.33 to .63| .54      |    |ComplementNaiveBayes|TFIDF |.42 to .67| .57      |    \n",
    "\n",
    "NEW RESULTS USING CLEAN (THOSE ARE BETTER THAN CONTENT, BUT STILL IN SAME RANGE AS LEMMATIZED)"
   ]
  },
  {
   "cell_type": "code",
   "execution_count": 24,
   "metadata": {},
   "outputs": [
    {
     "name": "stdout",
     "output_type": "stream",
     "text": [
      "X_bow Accuracy: 58%\n",
      "\n",
      "-----------------------\n",
      "X_bow Confusion Matrix: \n",
      "\n",
      " pred_bow    HTML  Java  JavaScript  Python\n",
      "language                                  \n",
      "HTML           3     7          33       3\n",
      "Java           1    28          30       2\n",
      "JavaScript     2     4          94       3\n",
      "Python         0     4          21      29\n",
      "\n",
      "-----------------------\n",
      "X_bow Logistic Regression Classification Report:\n",
      "               precision    recall  f1-score   support\n",
      "\n",
      "        HTML       0.50      0.07      0.12        46\n",
      "        Java       0.65      0.46      0.54        61\n",
      "  JavaScript       0.53      0.91      0.67       103\n",
      "      Python       0.78      0.54      0.64        54\n",
      "\n",
      "    accuracy                           0.58       264\n",
      "   macro avg       0.62      0.49      0.49       264\n",
      "weighted avg       0.60      0.58      0.54       264\n",
      "\n",
      "-----------------------\n",
      "TF-IDF Accuracy: 58%\n",
      "\n",
      "-----------------------\n",
      "TF-IDF Confusion Matrix: \n",
      "\n",
      " pred_tfidf  HTML  Java  JavaScript  Python\n",
      "language                                  \n",
      "HTML           2     5          37       2\n",
      "Java           0    25          34       2\n",
      "JavaScript     0     3          98       2\n",
      "Python         0     3          23      28\n",
      "\n",
      "-----------------------\n",
      "TF-IDF Logistic Regression Classification Report:\n",
      "               precision    recall  f1-score   support\n",
      "\n",
      "        HTML       1.00      0.04      0.08        46\n",
      "        Java       0.69      0.41      0.52        61\n",
      "  JavaScript       0.51      0.95      0.66       103\n",
      "      Python       0.82      0.52      0.64        54\n",
      "\n",
      "    accuracy                           0.58       264\n",
      "   macro avg       0.76      0.48      0.47       264\n",
      "weighted avg       0.70      0.58      0.52       264\n",
      "\n"
     ]
    }
   ],
   "source": [
    "# Logistic Regression\n",
    "lm_bow, lm_tfidf = model.logistic_regression(X_train, y_train, X_train_bow, X_train_tfidf)"
   ]
  },
  {
   "cell_type": "code",
   "execution_count": 25,
   "metadata": {},
   "outputs": [
    {
     "name": "stdout",
     "output_type": "stream",
     "text": [
      "X_bow Accuracy: 56%\n",
      "\n",
      "-----------------------\n",
      "X_bow Confusion Matrix: \n",
      "\n",
      " pred_bow    HTML  Java  JavaScript  Python\n",
      "language                                  \n",
      "HTML           1     2          41       2\n",
      "Java           0    26          35       0\n",
      "JavaScript     0     3          96       4\n",
      "Python         0     0          29      25\n",
      "\n",
      "-----------------------\n",
      "X_bow Random Forest Classification Report:\n",
      "               precision    recall  f1-score   support\n",
      "\n",
      "        HTML       1.00      0.02      0.04        46\n",
      "        Java       0.84      0.43      0.57        61\n",
      "  JavaScript       0.48      0.93      0.63       103\n",
      "      Python       0.81      0.46      0.59        54\n",
      "\n",
      "    accuracy                           0.56       264\n",
      "   macro avg       0.78      0.46      0.46       264\n",
      "weighted avg       0.72      0.56      0.50       264\n",
      "\n",
      "-----------------------\n",
      "TF-IDF Accuracy: 58%\n",
      "\n",
      "-----------------------\n",
      "TF-IDF Confusion Matrix: \n",
      "\n",
      " pred_tfidf  HTML  Java  JavaScript  Python\n",
      "language                                  \n",
      "HTML           3     1          41       1\n",
      "Java           0    26          35       0\n",
      "JavaScript     0     2         100       1\n",
      "Python         0     0          30      24\n",
      "\n",
      "-----------------------\n",
      "TF-IDF Random Forest Classification Report:\n",
      "               precision    recall  f1-score   support\n",
      "\n",
      "        HTML       1.00      0.07      0.12        46\n",
      "        Java       0.90      0.43      0.58        61\n",
      "  JavaScript       0.49      0.97      0.65       103\n",
      "      Python       0.92      0.44      0.60        54\n",
      "\n",
      "    accuracy                           0.58       264\n",
      "   macro avg       0.83      0.48      0.49       264\n",
      "weighted avg       0.76      0.58      0.53       264\n",
      "\n"
     ]
    }
   ],
   "source": [
    "rf_bow, rf_tfidf = model.random_forest(X_train, y_train, X_train_bow, X_train_tfidf)"
   ]
  },
  {
   "cell_type": "code",
   "execution_count": 26,
   "metadata": {},
   "outputs": [
    {
     "name": "stdout",
     "output_type": "stream",
     "text": [
      "TF-IDF Accuracy: 53%\n",
      "\n",
      "-----------------------\n",
      "TF-IDF Confusion Matrix: \n",
      "\n",
      " pred_tfidf  HTML  Java  JavaScript  Python\n",
      "language                                  \n",
      "HTML          23     8          12       3\n",
      "Java          17    31          10       3\n",
      "JavaScript    32     8          55       8\n",
      "Python        16     3           3      32\n",
      "\n",
      "-----------------------\n",
      "TF-IDF Complement Niave Bayes Classification Report:\n",
      "               precision    recall  f1-score   support\n",
      "\n",
      "        HTML       0.26      0.50      0.34        46\n",
      "        Java       0.62      0.51      0.56        61\n",
      "  JavaScript       0.69      0.53      0.60       103\n",
      "      Python       0.70      0.59      0.64        54\n",
      "\n",
      "    accuracy                           0.53       264\n",
      "   macro avg       0.57      0.53      0.54       264\n",
      "weighted avg       0.60      0.53      0.55       264\n",
      "\n"
     ]
    }
   ],
   "source": [
    "# ComplementNB \n",
    "cnb_tfidf = model.complement_naive_bayes(X_train, y_train, X_train_tfidf)"
   ]
  },
  {
   "cell_type": "markdown",
   "metadata": {},
   "source": [
    "## VALIDATE\n",
    "\n",
    "\n",
    "|FUNCTION            |VECTOR| F1 range | Accuracy |     |FUNCTION            |VECTOR| F1 range | Accuracy |     \n",
    "|--------------------|------|----------|----------|     |--------------------|------|----------|----------|     \n",
    "|Logistic Regression |BOW   |.00 to .67| .47      |     |Logistic Regression |BOW   |.00 to .61| .53      |     \n",
    "|Logistic Regression |TFIDF |.00 to .62| .44      |     |Logistic Regression |TFIDF |.00 to .65| .56      |     \n",
    "|Random Forest       |BOW   |.00 to .62| .44      |     |Random Forest       |BOW   |.00 to .58| .47      |     \n",
    "|Random Forest       |TFIDF |.00 to .62| .47      |     |Random Forest       |TFIDF |.00 to .60| .48      |     \n",
    "|ComplementNaiveBayes|TFIDF |.21 to .67| .40      |     |ComplementNaiveBayes|TFIDF |.37 to .65| .52      |     \n",
    "\n"
   ]
  },
  {
   "cell_type": "code",
   "execution_count": 27,
   "metadata": {},
   "outputs": [
    {
     "name": "stdout",
     "output_type": "stream",
     "text": [
      "X_bow Accuracy: 52%\n",
      "\n",
      "-----------------------\n",
      "X_bow Confusion Matrix: \n",
      "\n",
      " pred_bow    Java  JavaScript  Python\n",
      "language                            \n",
      "HTML           1          13       2\n",
      "Java           7          12       1\n",
      "JavaScript     1          31       3\n",
      "Python         1           9       8\n",
      "\n",
      "-----------------------\n",
      "X_bow Logistic Regression Classification Report:\n",
      "               precision    recall  f1-score   support\n",
      "\n",
      "        HTML       0.00      0.00      0.00        16\n",
      "        Java       0.70      0.35      0.47        20\n",
      "  JavaScript       0.48      0.89      0.62        35\n",
      "      Python       0.57      0.44      0.50        18\n",
      "\n",
      "    accuracy                           0.52        89\n",
      "   macro avg       0.44      0.42      0.40        89\n",
      "weighted avg       0.46      0.52      0.45        89\n",
      "\n",
      "-----------------------\n",
      "TF-IDF Accuracy: 54%\n",
      "\n",
      "-----------------------\n",
      "TF-IDF Confusion Matrix: \n",
      "\n",
      " pred_tfidf  Java  JavaScript  Python\n",
      "language                            \n",
      "HTML           1          14       1\n",
      "Java           7          13       0\n",
      "JavaScript     0          33       2\n",
      "Python         0          10       8\n",
      "\n",
      "-----------------------\n",
      "TF-IDF Logistic Regression Classification Report:\n",
      "               precision    recall  f1-score   support\n",
      "\n",
      "        HTML       0.00      0.00      0.00        16\n",
      "        Java       0.88      0.35      0.50        20\n",
      "  JavaScript       0.47      0.94      0.63        35\n",
      "      Python       0.73      0.44      0.55        18\n",
      "\n",
      "    accuracy                           0.54        89\n",
      "   macro avg       0.52      0.43      0.42        89\n",
      "weighted avg       0.53      0.54      0.47        89\n",
      "\n"
     ]
    }
   ],
   "source": [
    "model.validate_logistic_regression(X_validate, y_validate, X_val_bow, X_val_tfidf, lm_bow, lm_tfidf)"
   ]
  },
  {
   "cell_type": "code",
   "execution_count": 28,
   "metadata": {},
   "outputs": [
    {
     "name": "stdout",
     "output_type": "stream",
     "text": [
      "X_bow Accuracy: 49%\n",
      "\n",
      "-----------------------\n",
      "X_bow Confusion Matrix: \n",
      "\n",
      " pred_bow    Java  JavaScript  Python\n",
      "language                            \n",
      "HTML           1          14       1\n",
      "Java           5          15       0\n",
      "JavaScript     1          32       2\n",
      "Python         0          11       7\n",
      "\n",
      "-----------------------\n",
      "X_bow Random Forest Classification Report:\n",
      "               precision    recall  f1-score   support\n",
      "\n",
      "        HTML       0.00      0.00      0.00        16\n",
      "        Java       0.71      0.25      0.37        20\n",
      "  JavaScript       0.44      0.91      0.60        35\n",
      "      Python       0.70      0.39      0.50        18\n",
      "\n",
      "    accuracy                           0.49        89\n",
      "   macro avg       0.46      0.39      0.37        89\n",
      "weighted avg       0.48      0.49      0.42        89\n",
      "\n",
      "-----------------------\n",
      "TF-IDF Accuracy: 48%\n",
      "\n",
      "-----------------------\n",
      "TF-IDF Confusion Matrix: \n",
      "\n",
      " pred_tfidf  Java  JavaScript  Python\n",
      "language                            \n",
      "HTML           1          14       1\n",
      "Java           4          16       0\n",
      "JavaScript     0          33       2\n",
      "Python         0          12       6\n",
      "\n",
      "-----------------------\n",
      "TF-IDF Random Forest Classification Report:\n",
      "               precision    recall  f1-score   support\n",
      "\n",
      "        HTML       0.00      0.00      0.00        16\n",
      "        Java       0.80      0.20      0.32        20\n",
      "  JavaScript       0.44      0.94      0.60        35\n",
      "      Python       0.67      0.33      0.44        18\n",
      "\n",
      "    accuracy                           0.48        89\n",
      "   macro avg       0.48      0.37      0.34        89\n",
      "weighted avg       0.49      0.48      0.40        89\n",
      "\n"
     ]
    }
   ],
   "source": [
    "model.validate_random_forest(X_validate, y_validate, X_val_bow, X_val_tfidf, rf_bow, rf_tfidf)"
   ]
  },
  {
   "cell_type": "code",
   "execution_count": 29,
   "metadata": {},
   "outputs": [
    {
     "name": "stdout",
     "output_type": "stream",
     "text": [
      "TF-IDF Accuracy: 49%\n",
      "\n",
      "-----------------------\n",
      "TF-IDF Confusion Matrix: \n",
      "\n",
      " pred_tfidf  HTML  Java  JavaScript  Python\n",
      "language                                  \n",
      "HTML          10     1           3       2\n",
      "Java           6     8           5       1\n",
      "JavaScript    12     2          17       4\n",
      "Python         7     0           2       9\n",
      "\n",
      "-----------------------\n",
      "TF-IDF Complement Niave Bayes Classification Report:\n",
      "               precision    recall  f1-score   support\n",
      "\n",
      "        HTML       0.29      0.62      0.39        16\n",
      "        Java       0.73      0.40      0.52        20\n",
      "  JavaScript       0.63      0.49      0.55        35\n",
      "      Python       0.56      0.50      0.53        18\n",
      "\n",
      "    accuracy                           0.49        89\n",
      "   macro avg       0.55      0.50      0.50        89\n",
      "weighted avg       0.58      0.49      0.51        89\n",
      "\n"
     ]
    }
   ],
   "source": [
    "model.validate_complement_naive_bayes(X_validate, y_validate, X_val_tfidf, cnb_tfidf)"
   ]
  },
  {
   "cell_type": "markdown",
   "metadata": {},
   "source": [
    "## TEST\n",
    "\n",
    "\n",
    "|FUNCTION            |VECTOR| F1 range | Accuracy |  |FUNCTION            |VECTOR| F1 range | Accuracy |  \n",
    "|--------------------|------|----------|----------|  |--------------------|------|----------|----------|  \n",
    "|Logistic Regression |BOW   |.00 to .67| .58      |  |Logistic Regression |BOW   |.12 to .72| .54      |  \n",
    "|Random Forest       |TFIDF |.00 to .65| .58      |  |Random Forest       |TFIDF |.00 to .71| .53      |\n",
    "\n",
    "\n"
   ]
  },
  {
   "cell_type": "code",
   "execution_count": 30,
   "metadata": {},
   "outputs": [
    {
     "name": "stdout",
     "output_type": "stream",
     "text": [
      "X_bow Accuracy: 53%\n",
      "\n",
      "-----------------------\n",
      "X_bow Confusion Matrix: \n",
      "\n",
      " pred_bow    Java  JavaScript  Python\n",
      "language                            \n",
      "HTML           1          12       2\n",
      "Java           2          17       2\n",
      "JavaScript     2          30       3\n",
      "Python         0           3      15\n",
      "\n",
      "-----------------------\n",
      "X_bow Logistic Regression Classification Report:\n",
      "               precision    recall  f1-score   support\n",
      "\n",
      "        HTML       0.00      0.00      0.00        15\n",
      "        Java       0.40      0.10      0.15        21\n",
      "  JavaScript       0.48      0.86      0.62        35\n",
      "      Python       0.68      0.83      0.75        18\n",
      "\n",
      "    accuracy                           0.53        89\n",
      "   macro avg       0.39      0.45      0.38        89\n",
      "weighted avg       0.42      0.53      0.43        89\n",
      "\n"
     ]
    }
   ],
   "source": [
    "model.test_logistic_regression(X_test, y_test, X_test_bow, lm_bow)"
   ]
  },
  {
   "cell_type": "code",
   "execution_count": 31,
   "metadata": {},
   "outputs": [
    {
     "name": "stdout",
     "output_type": "stream",
     "text": [
      "TF-IDF Accuracy: 51%\n",
      "\n",
      "-----------------------\n",
      "TF-IDF Confusion Matrix: \n",
      "\n",
      " pred_tfidf  Java  JavaScript  Python\n",
      "language                            \n",
      "HTML           0          15       0\n",
      "Java           3          17       1\n",
      "JavaScript     1          32       2\n",
      "Python         0           8      10\n",
      "\n",
      "-----------------------\n",
      "TF-IDF Random Forest Classification Report:\n",
      "               precision    recall  f1-score   support\n",
      "\n",
      "        HTML       0.00      0.00      0.00        15\n",
      "        Java       0.75      0.14      0.24        21\n",
      "  JavaScript       0.44      0.91      0.60        35\n",
      "      Python       0.77      0.56      0.65        18\n",
      "\n",
      "    accuracy                           0.51        89\n",
      "   macro avg       0.49      0.40      0.37        89\n",
      "weighted avg       0.51      0.51      0.42        89\n",
      "\n"
     ]
    }
   ],
   "source": [
    "model.test_random_forest(X_test, y_test, X_test_tfidf, rf_tfidf)"
   ]
  },
  {
   "cell_type": "markdown",
   "metadata": {},
   "source": [
    "# ReSampling\n",
    "\n",
    "https://towardsdatascience.com/5-smote-techniques-for-oversampling-your-imbalance-data-b8155bdbe2b5"
   ]
  },
  {
   "cell_type": "code",
   "execution_count": 47,
   "metadata": {},
   "outputs": [],
   "source": [
    "from imblearn.over_sampling import SMOTE\n",
    "from sklearn.metrics import accuracy_score, precision_score, recall_score, confusion_matrix, classification_report\n",
    "from sklearn.linear_model import LogisticRegression, LinearRegression\n",
    "from sklearn.tree import DecisionTreeClassifier\n",
    "from sklearn.ensemble import RandomForestClassifier\n",
    "from sklearn.neighbors import KNeighborsClassifier\n",
    "from sklearn.feature_extraction.text import TfidfVectorizer\n",
    "from sklearn.naive_bayes import ComplementNB, MultinomialNB\n",
    "import pandas as pd"
   ]
  },
  {
   "cell_type": "code",
   "execution_count": 52,
   "metadata": {},
   "outputs": [
    {
     "name": "stdout",
     "output_type": "stream",
     "text": [
      "Shape after smote is: (412, 58) (412, 1)\n",
      "Shape after smote is: (140, 58) (140, 1)\n",
      "Shape after smote is: (140, 58) (140, 1)\n"
     ]
    }
   ],
   "source": [
    "sm = SMOTE(random_state=2)\n",
    "X_train_res, y_train_res = sm.fit_sample(X_train_tfidf, y_train)\n",
    "X_val_res, y_val_res = sm.fit_sample(X_val_tfidf, y_validate)\n",
    "X_test_res, y_test_res = sm.fit_sample(X_test_tfidf, y_test)\n",
    "print(\"Shape after smote is:\",X_train_res.shape,y_train_res.shape)\n",
    "print(\"Shape after smote is:\",X_val_res.shape,y_val_res.shape)\n",
    "print(\"Shape after smote is:\",X_test_res.shape,y_test_res.shape)"
   ]
  },
  {
   "cell_type": "code",
   "execution_count": 39,
   "metadata": {},
   "outputs": [
    {
     "data": {
      "text/plain": [
       "language  \n",
       "Python        103\n",
       "JavaScript    103\n",
       "Java          103\n",
       "HTML          103\n",
       "dtype: int64"
      ]
     },
     "execution_count": 39,
     "metadata": {},
     "output_type": "execute_result"
    }
   ],
   "source": [
    "y_train_res.value_counts()"
   ]
  },
  {
   "cell_type": "code",
   "execution_count": 53,
   "metadata": {},
   "outputs": [
    {
     "data": {
      "text/plain": [
       "language  \n",
       "Python        35\n",
       "JavaScript    35\n",
       "Java          35\n",
       "HTML          35\n",
       "dtype: int64"
      ]
     },
     "execution_count": 53,
     "metadata": {},
     "output_type": "execute_result"
    }
   ],
   "source": [
    "y_val_res.value_counts()"
   ]
  },
  {
   "cell_type": "code",
   "execution_count": 54,
   "metadata": {},
   "outputs": [
    {
     "data": {
      "text/plain": [
       "language  \n",
       "Python        35\n",
       "JavaScript    35\n",
       "Java          35\n",
       "HTML          35\n",
       "dtype: int64"
      ]
     },
     "execution_count": 54,
     "metadata": {},
     "output_type": "execute_result"
    }
   ],
   "source": [
    "y_test_res.value_counts()"
   ]
  },
  {
   "cell_type": "code",
   "execution_count": 55,
   "metadata": {},
   "outputs": [],
   "source": [
    "# Logistic Regression on resampled data\n",
    "# create the object\n",
    "lm = LogisticRegression()\n",
    "# fit the object\n",
    "lm_tfidf = lm.fit(X_train_res, y_train_res)\n",
    "# make predictions\n",
    "y_train_pred = lm_tfidf.predict(X_train_res)"
   ]
  },
  {
   "cell_type": "code",
   "execution_count": 56,
   "metadata": {},
   "outputs": [
    {
     "name": "stdout",
     "output_type": "stream",
     "text": [
      "TF-IDF Accuracy: 62%\n",
      "\n",
      "-----------------------\n",
      "TF-IDF Logistic Regression Classification Report:\n",
      "               precision    recall  f1-score   support\n",
      "\n",
      "        HTML       0.44      0.77      0.56       103\n",
      "        Java       0.71      0.57      0.63       103\n",
      "  JavaScript       0.75      0.56      0.64       103\n",
      "      Python       0.84      0.59      0.69       103\n",
      "\n",
      "    accuracy                           0.62       412\n",
      "   macro avg       0.69      0.62      0.63       412\n",
      "weighted avg       0.69      0.62      0.63       412\n",
      "\n"
     ]
    }
   ],
   "source": [
    "print('TF-IDF Accuracy: {:.0%}\\n'.format(accuracy_score(y_train_res, y_train_pred)))\n",
    "print('-----------------------')\n",
    "print(\"TF-IDF Logistic Regression Classification Report:\\n\", classification_report(y_train_res, y_train_pred))"
   ]
  },
  {
   "cell_type": "code",
   "execution_count": 57,
   "metadata": {},
   "outputs": [],
   "source": [
    "# Validate\n",
    "y_val_pred = lm_tfidf.predict(X_val_res)"
   ]
  },
  {
   "cell_type": "code",
   "execution_count": 58,
   "metadata": {},
   "outputs": [
    {
     "name": "stdout",
     "output_type": "stream",
     "text": [
      "TF-IDF Accuracy: 46%\n",
      "\n",
      "-----------------------\n",
      "TF-IDF Logistic Regression Classification Report:\n",
      "               precision    recall  f1-score   support\n",
      "\n",
      "        HTML       0.35      0.60      0.44        35\n",
      "        Java       0.71      0.34      0.46        35\n",
      "  JavaScript       0.46      0.49      0.47        35\n",
      "      Python       0.58      0.43      0.49        35\n",
      "\n",
      "    accuracy                           0.46       140\n",
      "   macro avg       0.52      0.46      0.47       140\n",
      "weighted avg       0.52      0.46      0.47       140\n",
      "\n"
     ]
    }
   ],
   "source": [
    "print('TF-IDF Accuracy: {:.0%}\\n'.format(accuracy_score(y_val_res, y_val_pred)))\n",
    "print('-----------------------')\n",
    "print(\"TF-IDF Logistic Regression Classification Report:\\n\", classification_report(y_val_res, y_val_pred))"
   ]
  },
  {
   "cell_type": "code",
   "execution_count": 59,
   "metadata": {},
   "outputs": [],
   "source": [
    "# Test\n",
    "y_test_pred = lm_tfidf.predict(X_test_res)"
   ]
  },
  {
   "cell_type": "code",
   "execution_count": 60,
   "metadata": {},
   "outputs": [
    {
     "name": "stdout",
     "output_type": "stream",
     "text": [
      "TF-IDF Accuracy: 54%\n",
      "\n",
      "-----------------------\n",
      "TF-IDF Logistic Regression Classification Report:\n",
      "               precision    recall  f1-score   support\n",
      "\n",
      "        HTML       0.43      0.66      0.52        35\n",
      "        Java       0.55      0.17      0.26        35\n",
      "  JavaScript       0.54      0.54      0.54        35\n",
      "      Python       0.66      0.77      0.71        35\n",
      "\n",
      "    accuracy                           0.54       140\n",
      "   macro avg       0.55      0.54      0.51       140\n",
      "weighted avg       0.55      0.54      0.51       140\n",
      "\n"
     ]
    }
   ],
   "source": [
    "print('TF-IDF Accuracy: {:.0%}\\n'.format(accuracy_score(y_test_res, y_test_pred)))\n",
    "print('-----------------------')\n",
    "print(\"TF-IDF Logistic Regression Classification Report:\\n\", classification_report(y_test_res, y_test_pred))"
   ]
  },
  {
   "cell_type": "code",
   "execution_count": null,
   "metadata": {},
   "outputs": [],
   "source": []
  }
 ],
 "metadata": {
  "kernelspec": {
   "display_name": "Python 3",
   "language": "python",
   "name": "python3"
  },
  "language_info": {
   "codemirror_mode": {
    "name": "ipython",
    "version": 3
   },
   "file_extension": ".py",
   "mimetype": "text/x-python",
   "name": "python",
   "nbconvert_exporter": "python",
   "pygments_lexer": "ipython3",
   "version": "3.7.9"
  },
  "toc": {
   "base_numbering": 1,
   "nav_menu": {},
   "number_sections": true,
   "sideBar": true,
   "skip_h1_title": false,
   "title_cell": "Table of Contents",
   "title_sidebar": "Contents",
   "toc_cell": false,
   "toc_position": {
    "height": "calc(100% - 180px)",
    "left": "10px",
    "top": "150px",
    "width": "288px"
   },
   "toc_section_display": true,
   "toc_window_display": true
  }
 },
 "nbformat": 4,
 "nbformat_minor": 4
}
